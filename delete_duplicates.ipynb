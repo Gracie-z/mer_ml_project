{
 "cells": [
  {
   "cell_type": "code",
   "execution_count": 152,
   "id": "5fc69ea6",
   "metadata": {},
   "outputs": [],
   "source": [
    "import pandas as pd\n",
    "import numpy as np"
   ]
  },
  {
   "cell_type": "code",
   "execution_count": 153,
   "id": "b3075254",
   "metadata": {},
   "outputs": [],
   "source": [
    "calm_df = pd.read_csv('calm.csv')\n",
    "sad_df = pd.read_csv('sad.csv')\n",
    "energetic_df = pd.read_csv('energetic.csv')\n",
    "happy_df = pd.read_csv('happy.csv')"
   ]
  },
  {
   "cell_type": "markdown",
   "id": "2ad08c1b",
   "metadata": {},
   "source": [
    "## Before preprocessing"
   ]
  },
  {
   "cell_type": "code",
   "execution_count": 154,
   "id": "8f169f86",
   "metadata": {},
   "outputs": [
    {
     "name": "stdout",
     "output_type": "stream",
     "text": [
      "(268, 19)\n",
      "(3878, 19)\n",
      "(252, 19)\n",
      "(9747, 19)\n"
     ]
    }
   ],
   "source": [
    "print(sad_df.shape)\n",
    "print(energetic_df.shape)\n",
    "print(happy_df.shape)\n",
    "print(calm_df.shape)"
   ]
  },
  {
   "cell_type": "markdown",
   "id": "a5e366c7",
   "metadata": {},
   "source": [
    "## Drop Duplicates from every dataframe"
   ]
  },
  {
   "cell_type": "code",
   "execution_count": 155,
   "id": "a9301524",
   "metadata": {},
   "outputs": [],
   "source": [
    "calm_new_df = calm_df.drop_duplicates(subset=['id'])\n",
    "sad_new_df = sad_df.drop_duplicates(subset=['id'])\n",
    "happy_new_df = happy_df.drop_duplicates(subset=['id'])\n",
    "energetic_new_df = energetic_df.drop_duplicates(subset=['id'])"
   ]
  },
  {
   "cell_type": "code",
   "execution_count": 156,
   "id": "791fcf57",
   "metadata": {},
   "outputs": [
    {
     "name": "stdout",
     "output_type": "stream",
     "text": [
      "(267, 19)\n",
      "(3554, 19)\n",
      "(251, 19)\n",
      "(2951, 19)\n"
     ]
    }
   ],
   "source": [
    "print(sad_new_df.shape)\n",
    "print(energetic_new_df.shape)\n",
    "print(happy_new_df.shape)\n",
    "print(calm_new_df.shape)"
   ]
  },
  {
   "cell_type": "code",
   "execution_count": 157,
   "id": "027bdcbe",
   "metadata": {},
   "outputs": [],
   "source": [
    "calm_new_df.to_csv('calm_no_duplicates.csv')\n",
    "sad_new_df.to_csv('sad_no_duplicates.csv')\n",
    "happy_new_df.to_csv('happy_no_duplicates.csv')\n",
    "energetic_new_df.to_csv('energetic_no_duplicates.csv')"
   ]
  },
  {
   "cell_type": "markdown",
   "id": "df273d9c",
   "metadata": {},
   "source": [
    "## Drop Nan"
   ]
  },
  {
   "cell_type": "code",
   "execution_count": 158,
   "id": "e1be7164",
   "metadata": {},
   "outputs": [
    {
     "name": "stderr",
     "output_type": "stream",
     "text": [
      "<ipython-input-158-2c9022541fb1>:1: SettingWithCopyWarning: \n",
      "A value is trying to be set on a copy of a slice from a DataFrame\n",
      "\n",
      "See the caveats in the documentation: https://pandas.pydata.org/pandas-docs/stable/user_guide/indexing.html#returning-a-view-versus-a-copy\n",
      "  calm_new_df.dropna(subset = ['preview_url'], inplace=True)\n",
      "<ipython-input-158-2c9022541fb1>:2: SettingWithCopyWarning: \n",
      "A value is trying to be set on a copy of a slice from a DataFrame\n",
      "\n",
      "See the caveats in the documentation: https://pandas.pydata.org/pandas-docs/stable/user_guide/indexing.html#returning-a-view-versus-a-copy\n",
      "  sad_new_df.dropna(subset = ['preview_url'], inplace=True)\n",
      "<ipython-input-158-2c9022541fb1>:3: SettingWithCopyWarning: \n",
      "A value is trying to be set on a copy of a slice from a DataFrame\n",
      "\n",
      "See the caveats in the documentation: https://pandas.pydata.org/pandas-docs/stable/user_guide/indexing.html#returning-a-view-versus-a-copy\n",
      "  energetic_new_df.dropna(subset = ['preview_url'], inplace=True)\n",
      "<ipython-input-158-2c9022541fb1>:4: SettingWithCopyWarning: \n",
      "A value is trying to be set on a copy of a slice from a DataFrame\n",
      "\n",
      "See the caveats in the documentation: https://pandas.pydata.org/pandas-docs/stable/user_guide/indexing.html#returning-a-view-versus-a-copy\n",
      "  happy_new_df.dropna(subset = ['preview_url'], inplace=True)\n"
     ]
    }
   ],
   "source": [
    "calm_new_df.dropna(subset = ['preview_url'], inplace=True)\n",
    "sad_new_df.dropna(subset = ['preview_url'], inplace=True)\n",
    "energetic_new_df.dropna(subset = ['preview_url'], inplace=True)\n",
    "happy_new_df.dropna(subset = ['preview_url'], inplace=True)"
   ]
  },
  {
   "cell_type": "code",
   "execution_count": 159,
   "id": "3a77127f",
   "metadata": {},
   "outputs": [
    {
     "name": "stdout",
     "output_type": "stream",
     "text": [
      "(233, 19)\n",
      "(2365, 19)\n",
      "(173, 19)\n",
      "(2743, 19)\n"
     ]
    }
   ],
   "source": [
    "print(sad_new_df.shape)\n",
    "print(energetic_new_df.shape)\n",
    "print(happy_new_df.shape)\n",
    "print(calm_new_df.shape)"
   ]
  },
  {
   "cell_type": "code",
   "execution_count": 160,
   "id": "dd6c3dd2",
   "metadata": {},
   "outputs": [],
   "source": [
    "calm_new_df.to_csv('calm_no_duplicates_no_nan.csv')\n",
    "sad_new_df.to_csv('sad_no_duplicates_no_nan.csv')\n",
    "happy_new_df.to_csv('happy_no_duplicates_no_nan.csv')\n",
    "energetic_new_df.to_csv('energetic_no_duplicates_no_nan.csv')"
   ]
  },
  {
   "cell_type": "markdown",
   "id": "5ce3d76a",
   "metadata": {},
   "source": [
    "## Concatenate all dfs and drop duplicates"
   ]
  },
  {
   "cell_type": "code",
   "execution_count": 166,
   "id": "9876c09d",
   "metadata": {},
   "outputs": [],
   "source": [
    "result = pd.concat([happy_new_df,sad_new_df, energetic_new_df, calm_new_df])"
   ]
  },
  {
   "cell_type": "code",
   "execution_count": 162,
   "id": "a43342ed",
   "metadata": {},
   "outputs": [
    {
     "data": {
      "text/plain": [
       "(5514, 19)"
      ]
     },
     "execution_count": 162,
     "metadata": {},
     "output_type": "execute_result"
    }
   ],
   "source": [
    "result.shape"
   ]
  },
  {
   "cell_type": "code",
   "execution_count": 163,
   "id": "eab3f224",
   "metadata": {},
   "outputs": [],
   "source": [
    "result.drop_duplicates(subset = ['id'], inplace = True)"
   ]
  },
  {
   "cell_type": "code",
   "execution_count": 167,
   "id": "de857ac8",
   "metadata": {},
   "outputs": [],
   "source": [
    "result.to_csv('all_data_no_duplicates_no_nan.csv')"
   ]
  },
  {
   "cell_type": "code",
   "execution_count": null,
   "id": "12b70131",
   "metadata": {},
   "outputs": [],
   "source": []
  }
 ],
 "metadata": {
  "kernelspec": {
   "display_name": "Python 3",
   "language": "python",
   "name": "python3"
  },
  "language_info": {
   "codemirror_mode": {
    "name": "ipython",
    "version": 3
   },
   "file_extension": ".py",
   "mimetype": "text/x-python",
   "name": "python",
   "nbconvert_exporter": "python",
   "pygments_lexer": "ipython3",
   "version": "3.8.5"
  }
 },
 "nbformat": 4,
 "nbformat_minor": 5
}
